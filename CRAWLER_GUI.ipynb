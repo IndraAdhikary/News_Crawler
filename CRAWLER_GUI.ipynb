{
 "cells": [
  {
   "cell_type": "code",
   "execution_count": 2,
   "metadata": {},
   "outputs": [
    {
     "data": {
      "application/vnd.jupyter.widget-view+json": {
       "model_id": "64f33b71701442e69037e229eb6ec0be",
       "version_major": 2,
       "version_minor": 0
      },
      "text/plain": [
       "interactive(children=(Dropdown(description='Enter_Field', options=('all', 'entertainment', 'world', 'us', 'pol…"
      ]
     },
     "metadata": {},
     "output_type": "display_data"
    },
    {
     "data": {
      "application/vnd.jupyter.widget-view+json": {
       "model_id": "6243b00005dd42e68b34947d9477cc3d",
       "version_major": 2,
       "version_minor": 0
      },
      "text/plain": [
       "interactive(children=(Text(value='', description='Key_Phrase'), Output()), _dom_classes=('widget-interact',))"
      ]
     },
     "metadata": {},
     "output_type": "display_data"
    },
    {
     "data": {
      "application/vnd.jupyter.widget-view+json": {
       "model_id": "0e0e4929c06b4e809527d56fb8cccdec",
       "version_major": 2,
       "version_minor": 0
      },
      "text/plain": [
       "Button(description='Search', style=ButtonStyle())"
      ]
     },
     "metadata": {},
     "output_type": "display_data"
    }
   ],
   "source": [
    "from __future__  import print_function\n",
    "from ipywidgets import interact, interactive\n",
    "import ipywidgets as widgets\n",
    "import requests as req\n",
    "from bs4 import BeautifulSoup\n",
    "import urllib.request\n",
    "\n",
    "def f(Enter_Field):\n",
    "    if Enter_Field=='all':\n",
    "        return \"\"\n",
    "    else:\n",
    "        return Enter_Field\n",
    "    \n",
    "def k(Key_Phrase):\n",
    "    return Key_Phrase\n",
    "\n",
    "\n",
    "s = interactive(f,Enter_Field = ['all','entertainment','world','us','politics','health','lifestyle','business','science','tech','tv'],continuous_update = True)\n",
    "display(s)\n",
    "s.layout.margin = '10px 200px'\n",
    "k = interactive(k,Key_Phrase='',continuous_update = True)\n",
    "display(k)\n",
    "k.layout.margin = '10px 200px'\n",
    "b = widgets.Button(description=\"Search\")\n",
    "display(b)\n",
    "b.layout.margin = '10px 0px 100px 250px'\n",
    "b.layout.height = '40px'\n",
    "b.style.button_color = 'orange'\n",
    "\n",
    "ulink = 'https://www.foxnews.com/' + s.result\n",
    "resp = urllib.request.urlopen(ulink)\n",
    "l = len(ulink)\n",
    "soup = BeautifulSoup(resp, from_encoding=resp.info().get_param('charset'))\n",
    "\n",
    "def search(t):\n",
    "    print(k.result)\n",
    "    score = 0\n",
    "    for link in soup.find_all('a', href=True):\n",
    "        s = link['href']\n",
    "        if k.result.lower() in link.get_text(strip=True).lower():\n",
    "            score+=1\n",
    "            print(\"\\n\\n\\n\"+str(score)+')' + link.get_text(strip=True)+'\\n')\n",
    "            print('<VISIT>')\n",
    "            print(s) if s[:7]=='https:/' else print('https:/'+s)\n",
    "    if score<1:\n",
    "        print('Sorry! No recent news data!')\n",
    "    print('\\n\\n\\n')\n",
    "            \n",
    "b.on_click(search)"
   ]
  },
  {
   "cell_type": "code",
   "execution_count": null,
   "metadata": {},
   "outputs": [],
   "source": []
  }
 ],
 "metadata": {
  "kernelspec": {
   "display_name": "Python 3",
   "language": "python",
   "name": "python3"
  },
  "language_info": {
   "codemirror_mode": {
    "name": "ipython",
    "version": 3
   },
   "file_extension": ".py",
   "mimetype": "text/x-python",
   "name": "python",
   "nbconvert_exporter": "python",
   "pygments_lexer": "ipython3",
   "version": "3.7.5"
  }
 },
 "nbformat": 4,
 "nbformat_minor": 2
}
